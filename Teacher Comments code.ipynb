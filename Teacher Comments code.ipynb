{
 "cells": [
  {
   "cell_type": "code",
   "execution_count": 1,
   "metadata": {
    "collapsed": false
   },
   "outputs": [
    {
     "name": "stdout",
     "output_type": "stream",
     "text": [
      "his\n",
      "her\n"
     ]
    }
   ],
   "source": [
    "def possesive(pronoun):\n",
    "    '''Takes in pronoun and returns possessive form of the pronoun'''\n",
    "    if pronoun.lower() == 'he':\n",
    "        return \"his\"\n",
    "    if pronoun.lower() == 'she':\n",
    "        return \"her\"\n",
    "    if pronoun.lower() == 'they':\n",
    "        return \"their\"\n",
    "def reference(pronoun):\n",
    "    if pronoun.lower() == 'he':\n",
    "        return \"him\"\n",
    "    if pronoun.lower() == 'she':\n",
    "        return \"her\"\n",
    "    if pronoun.lower() == 'they':\n",
    "        return \"them\"\n",
    "print(possesive(\"he\"))\n",
    "print(reference(\"she\"))"
   ]
  },
  {
   "cell_type": "code",
   "execution_count": 2,
   "metadata": {
    "collapsed": false
   },
   "outputs": [
    {
     "name": "stdout",
     "output_type": "stream",
     "text": [
      "\t Based on the averages of the test scores this semester, John is doing exceptionally well in the test catagories. With an average of 100 in the tests category, they demonstrate a deep understanding of how the to aproach tests and apply their learnings to the questions being asked. On this last test, John missed quite a few marks on this test on many parts of the test, scoring 75 points, and John doesn't really show an understanding of this last unit, I would recomend to retake this test if that option still is available.  \n",
      "\n",
      "\n"
     ]
    }
   ],
   "source": [
    "def test_avg(name,avg,latest):\n",
    "    '''Uses the average of test score to return the appropriate response. Then returns another sentence about the latest test'''\n",
    "    condition3 = ''\n",
    "    if int(avg) >= 90:\n",
    "        condition1 = f\"Based on the averages of the test scores this semester, {name} is doing exceptionally well in the test catagories. With an average of {avg} in the tests category, they demonstrate a deep understanding of how the to aproach tests and apply their learnings to the questions being asked.\"\n",
    "        if 80 > int(avg):\n",
    "            condition3 = f\"However, this score might only be an outlier and I hope to see more from {name} in the future.\"\n",
    "        else:\n",
    "            condition3 = ''\n",
    "    elif 90 > int(avg) >= 80:\n",
    "        condition1 = f\"Based on the average of the test scores this semester, {name} shows great potential to excel in this catagory of assesments. With an average of {avg} in the tests category, by putting in a little bit more effort in understanding the materials, they will be able to pass upcomming tests with much greater ease.\"\n",
    "        if 80 > int(avg):\n",
    "            conditon3 = f\"However, this score might only be an outlier and I hope to see more from {name} in the future.\"\n",
    "    elif 80 > int(avg):\n",
    "        condition1 = f\"Based on the average of the test scores this semester, {name} sturuggles in grasping the questions thoroughly and has difficulty in answering questions with care. With an average of {avg} in the tests category, {name} should put in more effort to understand the material and study more for tests, and if so, they have the potential to increase your test average.\"\n",
    "        if int(latest) >= 95:\n",
    "            condition3 = f\"This test seems to be a positive change, and it seems that this particular unit is to your strengths.\"\n",
    "    if int(latest) >= 95:\n",
    "        condition2 = f\"On this last test, {name} showed no problems with this test, scoring {latest} points, showing a thorough understanding of this last unit. I hope to see more of this from {name} in the future, keep up the good work.\"\n",
    "    elif 95 > int(latest) >= 90:\n",
    "        condition2 = f\"On this last test, {name} missed a few marks on this test here and there, scoring {latest} points, but they show an understanding of this last unit. I hope to see more from {name} in the future, just make sure to be a little more careful.\"\n",
    "    elif 90 > int(latest) >= 80:\n",
    "        condition2 = f\"On this last test, {name} missed a couple of marks on this test, scoring {latest} points, and they show a basic understanding of this last unit, but next time they might want to study more. I hope to see more from {name} in the future, just make sure to be more careful when answering questions, you have a notecard to remind yourself of simple code.\"\n",
    "    else:\n",
    "        condition2 = f\"On this last test, {name} missed quite a few marks on this test on many parts of the test, scoring {latest} points, and {name} doesn't really show an understanding of this last unit, I would recomend to retake this test if that option still is available. \"\n",
    "    return(f\"\\t {condition1} {condition2} {condition3}\\n\\n\")\n",
    "\n",
    "print(test_avg(\"John\",100,75))"
   ]
  },
  {
   "cell_type": "code",
   "execution_count": 3,
   "metadata": {
    "collapsed": false
   },
   "outputs": [
    {
     "data": {
      "text/plain": [
       "'Furthermore, with an average problemset score of 99, John is showing a solid foundation and application of learning and is earning very high marks. On the last problem set, John excelled and showed great understanding of last units concepts, earning an impressive score of 100. The latest problemset exemplifies how this student is doing this semester, keeping on trend with their average.'"
      ]
     },
     "execution_count": 3,
     "metadata": {
     },
     "output_type": "execute_result"
    }
   ],
   "source": [
    "def problem_set_eval(name,latest_problemset,ave_problemset,pronoun):\n",
    "    '''Uses the average of problem set score to return the appropriate response. Then returns another sentence about the latest problemst'''\n",
    "    condition3 = ''\n",
    "    if int(ave_problemset)>= 90:\n",
    "        condition1=f\"Furthermore, with an average problemset score of {ave_problemset}, {name} is showing a solid foundation and application of learning and is earning very high marks. \"\n",
    "        if int(latest_problemset) >= 90:\n",
    "            condition3=f\"The latest problemset exemplifies how this student is doing this semester, keeping on trend with their average.\"\n",
    "        elif 90 > int(latest_problemset)>=80:\n",
    "            condition3=f\"The latest problemset seemed to be a bit lower than how this student is doing this semester, they just missed some questions, but I hope that they keep on trend with their average.\"\n",
    "        else:\n",
    "            condition3=f\"The latest problemset seemed to be much lower than this student's average this semester, they missed quite a lot of questions, but I hope that they return to their average soon.\"\n",
    "    elif 90> int(ave_problemset) >= 80:\n",
    "        condition1=f\"Furthermore, with an average problemset score of {ave_problemset}, {name} is learning many of the concepts but is struggling with applicaiton, having execution with several errors. I encourage them to meet with me. \"\n",
    "        if int(latest_problemset) >= 90:\n",
    "            condition3=f\"The latest problemset was higher than their average, I hope to see more of this upward trend.\"\n",
    "        elif 90 > int(latest_problemset)>=80:\n",
    "            condition3=f\"The latest problemset seemed to be on trend with how this student is doing this semester, they just missed some questions, but I hope that they begin to raise their average by being more careful.\"\n",
    "        else:\n",
    "            condition3=f\"The latest problemset seemed to be lower than this student's average this semester, they missed quite a lot of questions, but I hope that they return to their average soon.\"\n",
    "    elif int(ave_problemset)<80:\n",
    "        condition1=f\"Furthermore, with an average problemset score of {ave_problemset}, there is much room for improvement for {name}. I reccommend them to meet more with me to gain better understanding. \"\n",
    "    if int(latest_problemset) >= 95:\n",
    "        condition2=f\"On the last problem set, {name} excelled and showed great understanding of last units concepts, earning an impressive score of {latest_problemset}. \"\n",
    "    elif 95>int(latest_problemset)>=90:\n",
    "        condition2=f\"On the last problem set, {name} showed great understanding of the last unit, scoring {latest_problemset}. \"\n",
    "    elif 90>int(latest_problemset)>=80:\n",
    "        condition2=f\"On the last problem set, {name} made many errors and scored {latest_problemset} points. Next time, if {name} is confused or struggling {pronoun} should meet with me to discuss. \"\n",
    "    elif int(latest_problemset)<80:\n",
    "        condition2=f\"On the latest problem set, {name} struggled and made many errors, granting {reference(pronoun)} the low score of {latest_problemset}. I encourage {pronoun} to come meet with me to discuss these errors. \"\n",
    "\n",
    "    return(condition1 + condition2 + condition3)\n",
    "\n",
    "problem_set_eval(\"John\",100,99,\"he\")"
   ]
  },
  {
   "cell_type": "code",
   "execution_count": 4,
   "metadata": {
    "collapsed": false
   },
   "outputs": [
    {
     "data": {
      "text/plain": [
       "'\\tWith an average project score of 85 this semester, John shows great potential to excel in this category in the future. With an average of 85 in the project category, by putting in a little bit more effort in understanding the materials before given the assignment, they will be able to complete future projects with ease. On this last project, John showed great confidence, scoring 99 points. They showed a thorough understanding of this last unit on the project and I hope to see more of this from John in the future, keep up the good work. \\n\\n'"
      ]
     },
     "execution_count": 4,
     "metadata": {
     },
     "output_type": "execute_result"
    }
   ],
   "source": [
    "def project_ave(name,avg,latest):\n",
    "    '''Uses the average of project score to determine the appropriate response. Then returns another sentence about the latest problem set'''\n",
    "    if int(avg) >= 90:\n",
    "        condition1 = f\"{name} is doing exceptionally well, with an average of {avg} in the project category, they demonstrate a great understanding of how to problem solve and apply their learnings to the questions being asked.\" \n",
    "    elif 90 > int(avg) >= 80:\n",
    "        condition1 = f\"With an average project score of {avg} this semester, {name} shows great potential to excel in this category in the future. With an average of {avg} in the project category, by putting in a little bit more effort in understanding the materials before given the assignment, they will be able to complete future projects with ease.\"\n",
    "    elif 80 > int(avg):\n",
    "        condition1 = f\"{name} is struggling with understanding the questions being asked and has difficulty in answering questions with care. With an average of {avg} in the project category, {name} should put in more effort to understand the material and be prepared to impliment that in their projects, and if so, they have the potential to increase your test average.\"\n",
    "    if int(latest) >= 95:\n",
    "         condition2 = f\"On this last project, {name} showed great confidence, scoring {latest} points. They showed a thorough understanding of this last unit on the project and I hope to see more of this from {name} in the future, keep up the good work.\"\n",
    "    elif 95 > int(latest) >= 90:\n",
    "        condition2 = f\"On this last project, {name} missed a few small pieces to questions on this project, scoring {latest} points, but they showed a solid understanding of this last unit. I hope to see {name}'s understanding develope further in the future.\"\n",
    "    elif 90 > int(latest) >= 80:\n",
    "        condition2 = f\"On this last project, {name} missed a couple of marks, scoring {latest} point. They showed a basic understanding of this last unit, but next time they might want to study more or come to me to ask questions. I hope to see more from {name} in the future and make sure to be more careful when preparing and editing the project.\"\n",
    "    elif 80 > int(latest):\n",
    "        condition2 = f\"On this last project, {name} missed quite a few marks on many parts of the project, scoring {latest} points. They showed a lacking understanding and I would recomend to meet with me to go over your mistakes on the project. However, this score might only an outlier and I hope to see more from {name} in the future!\"\n",
    "        \n",
    "    return(f\"\\t{condition1} {condition2} \\n\\n\")\n",
    "\n",
    "project_ave(\"John\",85,99)"
   ]
  },
  {
   "cell_type": "code",
   "execution_count": 5,
   "metadata": {
    "collapsed": false
   },
   "outputs": [
    {
     "name": "stdout",
     "output_type": "stream",
     "text": [
      "91.5\n"
     ]
    }
   ],
   "source": [
    "def final_grade(test_avg,ave_problemset,project_avg):\n",
    "    '''returns final grade using the test average and problem set average'''\n",
    "    number_of_problemsets = 5\n",
    "    number_of_projects = 3\n",
    "    ave_75 = (number_of_problemsets*int(ave_problemset)+(number_of_projects*int(project_avg)))/(number_of_problemsets+number_of_projects)\n",
    "    score = 0.25*int(test_avg) + 0.75*int(ave_75)\n",
    "    return score\n",
    "print(final_grade(96,89,93))"
   ]
  },
  {
   "cell_type": "code",
   "execution_count": 7,
   "metadata": {
    "collapsed": false
   },
   "outputs": [
    {
     "name": "stdout",
     "output_type": "stream",
     "text": [
      "B+\n"
     ]
    }
   ],
   "source": [
    "def letter_grade(score):\n",
    "    '''Takes in final grade numerical score and returns letter grade'''\n",
    "    if score >= 93:\n",
    "        letter = \"A\"\n",
    "    elif 93 > score >= 90:\n",
    "        letter = \"A-\"\n",
    "    elif 90> score >= 87:\n",
    "        letter = \"B+\"\n",
    "    elif 87> score >= 83:\n",
    "        letter = \"B\"\n",
    "    elif 83> score >= 80:\n",
    "        letter = \"B-\"\n",
    "    elif 80> score >= 77:\n",
    "        letter = \"C+\"\n",
    "    elif 77> score >= 73:\n",
    "        letter = \"C\"\n",
    "    elif 73> score >= 70:\n",
    "        letter = \"C-\"\n",
    "    elif 70> score >= 67:\n",
    "        letter = \"D+\"\n",
    "    elif 67> score >= 63:\n",
    "        letter = \"D\"\n",
    "    elif 63> score >= 60:\n",
    "        letter = \"D-\"\n",
    "    elif 60> score:\n",
    "        letter = \"F\"\n",
    "    return letter\n",
    "print(letter_grade(final_grade(75,100,80)))"
   ]
  },
  {
   "cell_type": "code",
   "execution_count": 8,
   "metadata": {
    "collapsed": false
   },
   "outputs": [
    {
     "data": {
      "text/plain": [
       "'an A'"
      ]
     },
     "execution_count": 8,
     "metadata": {
     },
     "output_type": "execute_result"
    }
   ],
   "source": [
    "def singular_article(word):\n",
    "    '''returns appropriate article \"a\" or \"an\"'''\n",
    "    if \"a\" or \"e\" or\"i\" or \"o\" or\"u\" in word.lower[0]:\n",
    "        return \"an\" +' '+ word\n",
    "    else:\n",
    "        return \"a\" + word\n",
    "singular_article(\"A\")"
   ]
  },
  {
   "cell_type": "code",
   "execution_count": 9,
   "metadata": {
    "collapsed": false
   },
   "outputs": [
    {
     "name": "stdout",
     "output_type": "stream",
     "text": [
      "John has managed to greet this novelty with open arms. He earns an A for this semester and I look forward to seeing more of his work in the future.\n"
     ]
    }
   ],
   "source": [
    "def condition(name,pronoun,score,letter):\n",
    "    '''Uses final grade to return appropriate response for final comment'''\n",
    "    if score >= 90:\n",
    "        string1 = f\"{name} has managed to greet this novelty with open arms.\"\n",
    "    elif 90 > score >= 80:\n",
    "        string1 = f\"{name} has greeted this novelty with open arms and simple errors.\"\n",
    "    elif 80 > score:\n",
    "        string1 = f\"{name} has greeted this novelty with some difficulty.\"\n",
    "    string2 = string1 + f\" {pronoun.title()} earns {singular_article(letter)} for this semester and I look forward to seeing more of {possesive(pronoun)} work in the future.\"\n",
    "    return string2\n",
    "print(condition(\"John\",\"he\",99,\"A\"))"
   ]
  },
  {
   "cell_type": "code",
   "execution_count": 12,
   "metadata": {
    "collapsed": false
   },
   "outputs": [
    {
     "name": "stdout",
     "output_type": "stream",
     "text": [
      "John\n",
      "\tJohn Doe is a student in the 12th grade and is taught by the computer science teacher, Lauren. Through a project-based approach, students have worked towards mastering the fundamentals of computational thinking and problem-solving using the Python programming language. And in this class, John has a stellar work ethic and is not having trouble keeping up with the course curiculum. John, keep up the good work. Furthermore, with an average problemset score of 89, John is learning many of the concepts but is struggling with applicaiton, having execution with several errors. I encourage them to meet with me. On the last problem set, John excelled and showed great understanding of last units concepts, earning an impressive score of 100. The latest problemset was higher than their average, I hope to see more of this upward trend.\n",
      "\n",
      "\n",
      "\t Based on the averages of the test scores this semester, John is doing exceptionally well in the test catagories. With an average of 96 in the tests category, they demonstrate a deep understanding of how the to aproach tests and apply their learnings to the questions being asked. On this last test, John showed no problems with this test, scoring 97 points, showing a thorough understanding of this last unit. I hope to see more of this from John in the future, keep up the good work. \n",
      "\n",
      "\n",
      "\tJohn is doing exceptionally well, with an average of 93 in the project category, they demonstrate a great understanding of how to problem solve and apply their learnings to the questions being asked. On this last project, John showed great confidence, scoring 95 points. They showed a thorough understanding of this last unit on the project and I hope to see more of this from John in the future, keep up the good work. \n",
      "\n",
      "\n",
      "\tThe introduction to computer science is like learning a new language, and John has managed to greet this novelty with open arms. He earns an A- for this semester and I look forward to seeing more of his work in the future.\n",
      "\n",
      "\n",
      "\n",
      "\n",
      "Jane\n",
      "\tJane Doe is a student in the 11th grade and is taught by the computer science teacher, Lauren. Through a project-based approach, students have worked towards mastering the fundamentals of computational thinking and problem-solving using the Python programming language. And in this class, Jane shows promise in their work ethic and with a little bit of effort has the potential to excel in this class. Jane, put in a little bit more focus to avoid making simple mistakes. Furthermore, with an average problemset score of 100, Jane is showing a solid foundation and application of learning and is earning very high marks. On the last problem set, Jane excelled and showed great understanding of last units concepts, earning an impressive score of 100. The latest problemset exemplifies how this student is doing this semester, keeping on trend with their average.\n",
      "\n",
      "\n",
      "\t Based on the average of the test scores this semester, Jane sturuggles in grasping the questions thoroughly and has difficulty in answering questions with care. With an average of 75 in the tests category, Jane should put in more effort to understand the material and study more for tests, and if so, they have the potential to increase your test average. On this last test, Jane showed no problems with this test, scoring 99 points, showing a thorough understanding of this last unit. I hope to see more of this from Jane in the future, keep up the good work. This test seems to be a positive change, and it seems that this particular unit is to your strengths.\n",
      "\n",
      "\n",
      "\tWith an average project score of 85 this semester, Jane shows great potential to excel in this category in the future. With an average of 85 in the project category, by putting in a little bit more effort in understanding the materials before given the assignment, they will be able to complete future projects with ease. On this last project, Jane missed a couple of marks, scoring 80 point. They showed a basic understanding of this last unit, but next time they might want to study more or come to me to ask questions. I hope to see more from Jane in the future and make sure to be more careful when preparing and editing the project. \n",
      "\n",
      "\n",
      "\tThe introduction to computer science is like learning a new language, and Jane has greeted this novelty with open arms and simple errors. She earns an B+ for this semester and I look forward to seeing more of her work in the future.\n",
      "\n",
      "\n",
      "\n",
      "\n",
      "Eugene\n",
      "\tEugene McScoresalot is a student in the 35th grade and is taught by the computer science teacher, Lauren. Through a project-based approach, students have worked towards mastering the fundamentals of computational thinking and problem-solving using the Python programming language. And in this class, Eugene has a stellar work ethic and is not having trouble keeping up with the course curiculum. Eugene, keep up the good work. Furthermore, with an average problemset score of 100, Eugene is showing a solid foundation and application of learning and is earning very high marks. On the last problem set, Eugene excelled and showed great understanding of last units concepts, earning an impressive score of 100. The latest problemset exemplifies how this student is doing this semester, keeping on trend with their average.\n",
      "\n",
      "\n",
      "\t Based on the averages of the test scores this semester, Eugene is doing exceptionally well in the test catagories. With an average of 100 in the tests category, they demonstrate a deep understanding of how the to aproach tests and apply their learnings to the questions being asked. On this last test, Eugene showed no problems with this test, scoring 100 points, showing a thorough understanding of this last unit. I hope to see more of this from Eugene in the future, keep up the good work. \n",
      "\n",
      "\n",
      "\tEugene is doing exceptionally well, with an average of 100 in the project category, they demonstrate a great understanding of how to problem solve and apply their learnings to the questions being asked. On this last project, Eugene showed great confidence, scoring 100 points. They showed a thorough understanding of this last unit on the project and I hope to see more of this from Eugene in the future, keep up the good work. \n",
      "\n",
      "\n",
      "\tThe introduction to computer science is like learning a new language, and Eugene has managed to greet this novelty with open arms. He earns an A for this semester and I look forward to seeing more of his work in the future.\n",
      "\n",
      "\n",
      "\n",
      "\n",
      "Double Double\n",
      "\tDouble Double Toil&Trouble is a student in the 1000th grade and is taught by the computer science teacher, Matt. Through a project-based approach, students have worked towards mastering the fundamentals of computational thinking and problem-solving using the Python programming language. And in this class, Double Double is failing this class, and would most likely not recieve the credit, I would recomend that 1000 retake this class. Double Double, should stop stirring culdrons in class. Furthermore, with an average problemset score of 75, there is much room for improvement for Double Double. I reccommend them to meet more with me to gain better understanding. On the latest problem set, Double Double struggled and made many errors, granting them the low score of 77. I encourage they to come meet with me to discuss these errors. \n",
      "\n",
      "\n",
      "\t Based on the average of the test scores this semester, Double Double sturuggles in grasping the questions thoroughly and has difficulty in answering questions with care. With an average of 25 in the tests category, Double Double should put in more effort to understand the material and study more for tests, and if so, they have the potential to increase your test average. On this last test, Double Double missed quite a few marks on this test on many parts of the test, scoring 79 points, and Double Double doesn't really show an understanding of this last unit, I would recomend to retake this test if that option still is available.  \n",
      "\n",
      "\n",
      "\tDouble Double is struggling with understanding the questions being asked and has difficulty in answering questions with care. With an average of 60 in the project category, Double Double should put in more effort to understand the material and be prepared to impliment that in their projects, and if so, they have the potential to increase your test average. On this last project, Double Double missed quite a few marks on many parts of the project, scoring 50 points. They showed a lacking understanding and I would recomend to meet with me to go over your mistakes on the project. However, this score might only an outlier and I hope to see more from Double Double in the future! \n",
      "\n",
      "\n",
      "\tThe introduction to computer science is like learning a new language, and Double Double has greeted this novelty with some difficulty. They earns an F for this semester and I look forward to seeing more of their work in the future.\n",
      "\n",
      "\n",
      "\n",
      "\n",
      "Normal\n",
      "\tNormal Normalte is a student in the 9th grade and is taught by the computer science teacher, Lauren. Through a project-based approach, students have worked towards mastering the fundamentals of computational thinking and problem-solving using the Python programming language. And in this class, Normal has a stellar work ethic and is not having trouble keeping up with the course curiculum. Normal, should be more normal as his name implies. Furthermore, with an average problemset score of 150, Normal is showing a solid foundation and application of learning and is earning very high marks. On the latest problem set, Normal struggled and made many errors, granting him the low score of 50. I encourage he to come meet with me to discuss these errors. The latest problemset seemed to be much lower than this student's average this semester, they missed quite a lot of questions, but I hope that they return to their average soon.\n",
      "\n",
      "\n",
      "\t Based on the averages of the test scores this semester, Normal is doing exceptionally well in the test catagories. With an average of 100 in the tests category, they demonstrate a deep understanding of how the to aproach tests and apply their learnings to the questions being asked. On this last test, Normal showed no problems with this test, scoring 100 points, showing a thorough understanding of this last unit. I hope to see more of this from Normal in the future, keep up the good work. \n",
      "\n",
      "\n",
      "\tNormal is struggling with understanding the questions being asked and has difficulty in answering questions with care. With an average of 50 in the project category, Normal should put in more effort to understand the material and be prepared to impliment that in their projects, and if so, they have the potential to increase your test average. On this last project, Normal showed great confidence, scoring 150 points. They showed a thorough understanding of this last unit on the project and I hope to see more of this from Normal in the future, keep up the good work. \n",
      "\n",
      "\n",
      "\tThe introduction to computer science is like learning a new language, and Normal has managed to greet this novelty with open arms. He earns an A for this semester and I look forward to seeing more of his work in the future.\n",
      "\n",
      "\n",
      "\n",
      "\n"
     ]
    }
   ],
   "source": [
    "import csv\n",
    "\n",
    "with open('Comments.csv') as csvfile:\n",
    "    data = csv.reader(csvfile, delimiter=',')\n",
    "    next(data)\n",
    "    for row in data:\n",
    "        fout = open(f'{row[0]}.txt', 'w')\n",
    "        score = final_grade(row[8],row[9],row[7])\n",
    "        string1 = f\"\\t{row[0]} {row[1]} is a student in the {row[2]}th grade and is taught by the computer science teacher, {row[4]}. Through a project-based approach, students have worked towards mastering the fundamentals of computational thinking and problem-solving using the Python programming language. And in this class,\"\n",
    "        if int(score) >= 90:\n",
    "            condition1 = f\"{row[0]} has a stellar work ethic and is not having trouble keeping up with the course curiculum.\"\n",
    "        elif 90 > int(score) >= 80:\n",
    "            condition1 = f\"{row[0]} shows promise in their work ethic and with a little bit of effort has the potential to excel in this class.\" \n",
    "        elif 80 > int(score) >= 70:\n",
    "            condition1 = f\"{row[0]} is working hard but struggles with excecution and performance.\"\n",
    "        elif 70 > int(score):\n",
    "            condition1 = f\"{row[0]} is failing this class, and would most likely not recieve the credit, I would recomend that {row[2]} retake this class.\"\n",
    "        string2 = f\"{condition1} {row[0]}, {row[6]}. {problem_set_eval(row[0],row[12],row[9],row[3])}\\n\\n\"\n",
    "\n",
    "        line1 = string1 + \" \" + string2\n",
    "        fout.write(line1)\n",
    "        print(row[0])\n",
    "        print(line1)\n",
    "        line2 = test_avg(row[0],row[8],row[11])\n",
    "        fout.write(line2)\n",
    "        line3 = project_ave(row[0],row[7],row[10])\n",
    "        fout.write(line3)\n",
    "        string4 = f\"\\tThe introduction to computer science is like learning a new language, and {condition(row[0],row[3],score,letter_grade(score))}\"\n",
    "        line4 = string4\n",
    "        fout.write(line4)\n",
    "        print(line2)\n",
    "        print(line3)\n",
    "        print(string4)\n",
    "        print(\"\\n\\n\\n\")\n",
    "        fout.close()"
   ]
  },
  {
   "cell_type": "code",
   "execution_count": 0,
   "metadata": {
    "collapsed": false
   },
   "outputs": [
   ],
   "source": [
   ]
  },
  {
   "cell_type": "code",
   "execution_count": 0,
   "metadata": {
    "collapsed": false
   },
   "outputs": [
   ],
   "source": [
   ]
  },
  {
   "cell_type": "code",
   "execution_count": 0,
   "metadata": {
    "collapsed": false
   },
   "outputs": [
   ],
   "source": [
   ]
  }
 ],
 "metadata": {
  "kernelspec": {
   "display_name": "Python 3 (Anaconda 2019)",
   "env": {
    "AR": "/ext/anaconda-2019.03/bin/x86_64-conda_cos6-linux-gnu-ar",
    "AS": "/ext/anaconda-2019.03/bin/x86_64-conda_cos6-linux-gnu-as",
    "CC": "/ext/anaconda-2019.03/bin/x86_64-conda_cos6-linux-gnu-cc",
    "CONDA_EXE": "/ext/anaconda-2019.03/bin/conda",
    "CONDA_PREFIX": "/ext/anaconda-2019.03",
    "CONDA_PYTHON_EXE": "/ext/anaconda-2019.03/bin/python",
    "CPP": "/ext/anaconda-2019.03/bin/x86_64-conda_cos6-linux-gnu-cpp",
    "CXX": "/ext/anaconda-2019.03/bin/x86_64-conda_cos6-linux-gnu-c++",
    "CXXFILT": "/ext/anaconda-2019.03/bin/x86_64-conda_cos6-linux-gnu-c++filt",
    "ELFEDIT": "/ext/anaconda-2019.03/bin/x86_64-conda_cos6-linux-gnu-elfedit",
    "F77": "/ext/anaconda-2019.03/bin/x86_64-conda_cos6-linux-gnu-gfortran",
    "F90": "/ext/anaconda-2019.03/bin/x86_64-conda_cos6-linux-gnu-gfortran",
    "F95": "/ext/anaconda-2019.03/bin/x86_64-conda_cos6-linux-gnu-f95",
    "FC": "/ext/anaconda-2019.03/bin/x86_64-conda_cos6-linux-gnu-gfortran",
    "GCC": "/ext/anaconda-2019.03/bin/x86_64-conda_cos6-linux-gnu-gcc",
    "GCC_AR": "/ext/anaconda-2019.03/bin/x86_64-conda_cos6-linux-gnu-gcc-ar",
    "GCC_NM": "/ext/anaconda-2019.03/bin/x86_64-conda_cos6-linux-gnu-gcc-nm",
    "GCC_RANLIB": "/ext/anaconda-2019.03/bin/x86_64-conda_cos6-linux-gnu-gcc-ranlib",
    "GDAL_DATA": "/ext/anaconda-2019.03/share/gdal",
    "GFORTRAN": "/ext/anaconda-2019.03/bin/x86_64-conda_cos6-linux-gnu-gfortran",
    "GPROF": "/ext/anaconda-2019.03/bin/x86_64-conda_cos6-linux-gnu-gprof",
    "GXX": "/ext/anaconda-2019.03/bin/x86_64-conda_cos6-linux-gnu-g++",
    "JAVA_HOME": "/ext/anaconda-2019.03",
    "JAVA_LD_LIBRARY_PATH": "/ext/anaconda-2019.03/lib/server",
    "LD": "/ext/anaconda-2019.03/bin/x86_64-conda_cos6-linux-gnu-ld",
    "LD_GOLD": "/ext/anaconda-2019.03/bin/x86_64-conda_cos6-linux-gnu-ld.gold",
    "LD_LIBRARY_PATH": "/ext/anaconda-2019.03/lib",
    "NM": "/ext/anaconda-2019.03/bin/x86_64-conda_cos6-linux-gnu-nm",
    "OBJCOPY": "/ext/anaconda-2019.03/bin/x86_64-conda_cos6-linux-gnu-objcopy",
    "OBJDUMP": "/ext/anaconda-2019.03/bin/x86_64-conda_cos6-linux-gnu-objdump",
    "OCAMLFIND_CONF": "/ext/anaconda-2019.03/etc/findlib.conf",
    "OCAMLLIB": "/ext/anaconda-2019.03/lib/ocaml",
    "OCAML_PREFIX": "/ext/anaconda-2019.03",
    "PATH": "/ext/anaconda-2019.03/bin:/ext/anaconda-2019.03/condabin:/cocalc/bin:/cocalc/src/smc-project/bin:/home/user/bin:/home/user/.local/bin:/ext/bin:/usr/lib/xpra:/opt/ghc/bin:/usr/local/bin:/usr/bin:/bin:/ext/data/homer/bin:/ext/data/weblogo:/ext/intellij/idea/bin:/ext/pycharm/pycharm/bin:/usr/lib/postgresql/10/bin",
    "PROJ_LIB": "/ext/anaconda-2019.03/share/proj",
    "PYTHONHOME": "/ext/anaconda-2019.03/lib/python3.7",
    "PYTHONPATH": "/ext/anaconda-2019.03/lib/python3.7:/ext/anaconda-2019.03/lib/python3.7/site-packages",
    "RANLIB": "/ext/anaconda-2019.03/bin/x86_64-conda_cos6-linux-gnu-ranlib",
    "READELF": "/ext/anaconda-2019.03/bin/x86_64-conda_cos6-linux-gnu-readelf",
    "RSTUDIO_WHICH_R": "/ext/anaconda-2019.03/bin/R",
    "SIZE": "/ext/anaconda-2019.03/bin/x86_64-conda_cos6-linux-gnu-size",
    "STRINGS": "/ext/anaconda-2019.03/bin/x86_64-conda_cos6-linux-gnu-strings",
    "STRIP": "/ext/anaconda-2019.03/bin/x86_64-conda_cos6-linux-gnu-strip"
   },
   "language": "python",
   "metadata": {
    "cocalc": {
     "description": "Python/R distribution for data science",
     "priority": 5,
     "url": "https://www.anaconda.com/distribution/"
    }
   },
   "name": "anaconda2019"
  },
  "language_info": {
   "codemirror_mode": {
    "name": "ipython",
    "version": 3
   },
   "file_extension": ".py",
   "mimetype": "text/x-python",
   "name": "python",
   "nbconvert_exporter": "python",
   "pygments_lexer": "ipython3",
   "version": "3.7.6"
  }
 },
 "nbformat": 4,
 "nbformat_minor": 0
}